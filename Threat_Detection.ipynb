{
 "cells": [
  {
   "cell_type": "code",
   "execution_count": 1,
   "metadata": {},
   "outputs": [],
   "source": [
    "!pip install -qU pinecone-client"
   ]
  },
  {
   "cell_type": "code",
   "execution_count": 5,
   "metadata": {},
   "outputs": [
    {
     "name": "stderr",
     "output_type": "stream",
     "text": [
      "C:\\Users\\yasshah9\\AppData\\Roaming\\Python\\Python311\\site-packages\\pinecone\\index.py:4: TqdmWarning: IProgress not found. Please update jupyter and ipywidgets. See https://ipywidgets.readthedocs.io/en/stable/user_install.html\n",
      "  from tqdm.autonotebook import tqdm\n"
     ]
    },
    {
     "data": {
      "text/plain": [
       "['it-threats']"
      ]
     },
     "execution_count": 5,
     "metadata": {},
     "output_type": "execute_result"
    }
   ],
   "source": [
    "import pinecone\n",
    "pinecone.init(\n",
    "    api_key='ba94c143-b7f7-42bd-bbb7-4261f136dd55',\n",
    "    environment='us-west1-gcp-free'\n",
    ")\n",
    "pinecone.list_indexes()"
   ]
  },
  {
   "cell_type": "code",
   "execution_count": 3,
   "metadata": {},
   "outputs": [
    {
     "name": "stderr",
     "output_type": "stream",
     "text": [
      "ERROR: Cannot install keras==2.4.0 and tensorflow because these package versions have conflicting dependencies.\n",
      "ERROR: ResolutionImpossible: for help visit https://pip.pypa.io/en/latest/topics/dependency-resolution/#dealing-with-dependency-conflicts\n"
     ]
    }
   ],
   "source": [
    "!pip install -qU pip python-dateutil keras==2.4.0 scikit-learn matplotlib==3.1.0 seaborn"
   ]
  },
  {
   "cell_type": "code",
   "execution_count": 2,
   "metadata": {},
   "outputs": [],
   "source": [
    "from collections import Counter\n",
    "import matplotlib.pyplot as plt\n",
    "import pandas as pd\n",
    "# import seaborn as sns\n",
    "from tensorflow import keras\n",
    "from tensorflow.keras.models import Model\n",
    "import tensorflow.keras.backend as K\n",
    "from sklearn.metrics import accuracy_score, precision_score, recall_score\n",
    "from sklearn.metrics import confusion_matrix\n",
    "import tensorflow as tf"
   ]
  },
  {
   "cell_type": "code",
   "execution_count": 3,
   "metadata": {},
   "outputs": [],
   "source": [
    "# Pick a name for the new service\n",
    "index_name = 'it-threats'"
   ]
  },
  {
   "cell_type": "code",
   "execution_count": null,
   "metadata": {},
   "outputs": [],
   "source": [
    "# Make sure service with the same name does not exist\n",
    "if index_name in pinecone.list_indexes():\n",
    "    pinecone.delete_index(index_name)"
   ]
  },
  {
   "cell_type": "code",
   "execution_count": null,
   "metadata": {},
   "outputs": [],
   "source": [
    "pinecone.create_index(name=index_name, dimension=128, metric='cosine')"
   ]
  },
  {
   "cell_type": "code",
   "execution_count": 6,
   "metadata": {},
   "outputs": [],
   "source": [
    "index = pinecone.Index(index_name=index_name)"
   ]
  },
  {
   "cell_type": "code",
   "execution_count": 11,
   "metadata": {},
   "outputs": [
    {
     "data": {
      "text/plain": [
       "attack_cat\n",
       "Normal            37000\n",
       "Generic           18871\n",
       "Exploits          11132\n",
       "Fuzzers            6062\n",
       "DoS                4089\n",
       "Reconnaissance     3496\n",
       "Analysis            677\n",
       "Backdoor            583\n",
       "Shellcode           378\n",
       "Worms                44\n",
       "Name: count, dtype: int64"
      ]
     },
     "execution_count": 11,
     "metadata": {},
     "output_type": "execute_result"
    }
   ],
   "source": [
    "data = pd.read_csv('./UNSW_NB15_training-set.csv')\n",
    "data.attack_cat.value_counts()"
   ]
  },
  {
   "cell_type": "code",
   "execution_count": 11,
   "metadata": {},
   "outputs": [
    {
     "data": {
      "text/plain": [
       "attack_cat\n",
       "Normal            56000\n",
       "Generic           40000\n",
       "Exploits          33393\n",
       "Fuzzers           18184\n",
       "DoS               12264\n",
       "Reconnaissance    10491\n",
       "Analysis           2000\n",
       "Backdoor           1746\n",
       "Shellcode          1133\n",
       "Worms               130\n",
       "Name: count, dtype: int64"
      ]
     },
     "execution_count": 11,
     "metadata": {},
     "output_type": "execute_result"
    }
   ],
   "source": [
    "test = pd.read_csv('./UNSW_NB15_testing-set.csv')\n",
    "test.attack_cat.value_counts()"
   ]
  },
  {
   "cell_type": "code",
   "execution_count": 12,
   "metadata": {},
   "outputs": [],
   "source": [
    "data1=data.drop(['proto','service','state','attack_cat'],axis=1)"
   ]
  },
  {
   "cell_type": "code",
   "execution_count": 13,
   "metadata": {},
   "outputs": [
    {
     "data": {
      "text/html": [
       "<div>\n",
       "<style scoped>\n",
       "    .dataframe tbody tr th:only-of-type {\n",
       "        vertical-align: middle;\n",
       "    }\n",
       "\n",
       "    .dataframe tbody tr th {\n",
       "        vertical-align: top;\n",
       "    }\n",
       "\n",
       "    .dataframe thead th {\n",
       "        text-align: right;\n",
       "    }\n",
       "</style>\n",
       "<table border=\"1\" class=\"dataframe\">\n",
       "  <thead>\n",
       "    <tr style=\"text-align: right;\">\n",
       "      <th></th>\n",
       "      <th>id</th>\n",
       "      <th>dur</th>\n",
       "      <th>spkts</th>\n",
       "      <th>dpkts</th>\n",
       "      <th>sbytes</th>\n",
       "      <th>dbytes</th>\n",
       "      <th>rate</th>\n",
       "      <th>sttl</th>\n",
       "      <th>dttl</th>\n",
       "      <th>sload</th>\n",
       "      <th>...</th>\n",
       "      <th>ct_src_dport_ltm</th>\n",
       "      <th>ct_dst_sport_ltm</th>\n",
       "      <th>ct_dst_src_ltm</th>\n",
       "      <th>is_ftp_login</th>\n",
       "      <th>ct_ftp_cmd</th>\n",
       "      <th>ct_flw_http_mthd</th>\n",
       "      <th>ct_src_ltm</th>\n",
       "      <th>ct_srv_dst</th>\n",
       "      <th>is_sm_ips_ports</th>\n",
       "      <th>label</th>\n",
       "    </tr>\n",
       "  </thead>\n",
       "  <tbody>\n",
       "    <tr>\n",
       "      <th>0</th>\n",
       "      <td>1</td>\n",
       "      <td>0.000011</td>\n",
       "      <td>2</td>\n",
       "      <td>0</td>\n",
       "      <td>496</td>\n",
       "      <td>0</td>\n",
       "      <td>90909.090200</td>\n",
       "      <td>254</td>\n",
       "      <td>0</td>\n",
       "      <td>1.803636e+08</td>\n",
       "      <td>...</td>\n",
       "      <td>1</td>\n",
       "      <td>1</td>\n",
       "      <td>2</td>\n",
       "      <td>0</td>\n",
       "      <td>0</td>\n",
       "      <td>0</td>\n",
       "      <td>1</td>\n",
       "      <td>2</td>\n",
       "      <td>0</td>\n",
       "      <td>0</td>\n",
       "    </tr>\n",
       "    <tr>\n",
       "      <th>1</th>\n",
       "      <td>2</td>\n",
       "      <td>0.000008</td>\n",
       "      <td>2</td>\n",
       "      <td>0</td>\n",
       "      <td>1762</td>\n",
       "      <td>0</td>\n",
       "      <td>125000.000300</td>\n",
       "      <td>254</td>\n",
       "      <td>0</td>\n",
       "      <td>8.810000e+08</td>\n",
       "      <td>...</td>\n",
       "      <td>1</td>\n",
       "      <td>1</td>\n",
       "      <td>2</td>\n",
       "      <td>0</td>\n",
       "      <td>0</td>\n",
       "      <td>0</td>\n",
       "      <td>1</td>\n",
       "      <td>2</td>\n",
       "      <td>0</td>\n",
       "      <td>0</td>\n",
       "    </tr>\n",
       "    <tr>\n",
       "      <th>2</th>\n",
       "      <td>3</td>\n",
       "      <td>0.000005</td>\n",
       "      <td>2</td>\n",
       "      <td>0</td>\n",
       "      <td>1068</td>\n",
       "      <td>0</td>\n",
       "      <td>200000.005100</td>\n",
       "      <td>254</td>\n",
       "      <td>0</td>\n",
       "      <td>8.544000e+08</td>\n",
       "      <td>...</td>\n",
       "      <td>1</td>\n",
       "      <td>1</td>\n",
       "      <td>3</td>\n",
       "      <td>0</td>\n",
       "      <td>0</td>\n",
       "      <td>0</td>\n",
       "      <td>1</td>\n",
       "      <td>3</td>\n",
       "      <td>0</td>\n",
       "      <td>0</td>\n",
       "    </tr>\n",
       "    <tr>\n",
       "      <th>3</th>\n",
       "      <td>4</td>\n",
       "      <td>0.000006</td>\n",
       "      <td>2</td>\n",
       "      <td>0</td>\n",
       "      <td>900</td>\n",
       "      <td>0</td>\n",
       "      <td>166666.660800</td>\n",
       "      <td>254</td>\n",
       "      <td>0</td>\n",
       "      <td>6.000000e+08</td>\n",
       "      <td>...</td>\n",
       "      <td>2</td>\n",
       "      <td>1</td>\n",
       "      <td>3</td>\n",
       "      <td>0</td>\n",
       "      <td>0</td>\n",
       "      <td>0</td>\n",
       "      <td>2</td>\n",
       "      <td>3</td>\n",
       "      <td>0</td>\n",
       "      <td>0</td>\n",
       "    </tr>\n",
       "    <tr>\n",
       "      <th>4</th>\n",
       "      <td>5</td>\n",
       "      <td>0.000010</td>\n",
       "      <td>2</td>\n",
       "      <td>0</td>\n",
       "      <td>2126</td>\n",
       "      <td>0</td>\n",
       "      <td>100000.002500</td>\n",
       "      <td>254</td>\n",
       "      <td>0</td>\n",
       "      <td>8.504000e+08</td>\n",
       "      <td>...</td>\n",
       "      <td>2</td>\n",
       "      <td>1</td>\n",
       "      <td>3</td>\n",
       "      <td>0</td>\n",
       "      <td>0</td>\n",
       "      <td>0</td>\n",
       "      <td>2</td>\n",
       "      <td>3</td>\n",
       "      <td>0</td>\n",
       "      <td>0</td>\n",
       "    </tr>\n",
       "    <tr>\n",
       "      <th>...</th>\n",
       "      <td>...</td>\n",
       "      <td>...</td>\n",
       "      <td>...</td>\n",
       "      <td>...</td>\n",
       "      <td>...</td>\n",
       "      <td>...</td>\n",
       "      <td>...</td>\n",
       "      <td>...</td>\n",
       "      <td>...</td>\n",
       "      <td>...</td>\n",
       "      <td>...</td>\n",
       "      <td>...</td>\n",
       "      <td>...</td>\n",
       "      <td>...</td>\n",
       "      <td>...</td>\n",
       "      <td>...</td>\n",
       "      <td>...</td>\n",
       "      <td>...</td>\n",
       "      <td>...</td>\n",
       "      <td>...</td>\n",
       "      <td>...</td>\n",
       "    </tr>\n",
       "    <tr>\n",
       "      <th>82327</th>\n",
       "      <td>82328</td>\n",
       "      <td>0.000005</td>\n",
       "      <td>2</td>\n",
       "      <td>0</td>\n",
       "      <td>104</td>\n",
       "      <td>0</td>\n",
       "      <td>200000.005100</td>\n",
       "      <td>254</td>\n",
       "      <td>0</td>\n",
       "      <td>8.320000e+07</td>\n",
       "      <td>...</td>\n",
       "      <td>1</td>\n",
       "      <td>1</td>\n",
       "      <td>2</td>\n",
       "      <td>0</td>\n",
       "      <td>0</td>\n",
       "      <td>0</td>\n",
       "      <td>2</td>\n",
       "      <td>1</td>\n",
       "      <td>0</td>\n",
       "      <td>0</td>\n",
       "    </tr>\n",
       "    <tr>\n",
       "      <th>82328</th>\n",
       "      <td>82329</td>\n",
       "      <td>1.106101</td>\n",
       "      <td>20</td>\n",
       "      <td>8</td>\n",
       "      <td>18062</td>\n",
       "      <td>354</td>\n",
       "      <td>24.410067</td>\n",
       "      <td>254</td>\n",
       "      <td>252</td>\n",
       "      <td>1.241044e+05</td>\n",
       "      <td>...</td>\n",
       "      <td>1</td>\n",
       "      <td>1</td>\n",
       "      <td>1</td>\n",
       "      <td>0</td>\n",
       "      <td>0</td>\n",
       "      <td>0</td>\n",
       "      <td>3</td>\n",
       "      <td>2</td>\n",
       "      <td>0</td>\n",
       "      <td>0</td>\n",
       "    </tr>\n",
       "    <tr>\n",
       "      <th>82329</th>\n",
       "      <td>82330</td>\n",
       "      <td>0.000000</td>\n",
       "      <td>1</td>\n",
       "      <td>0</td>\n",
       "      <td>46</td>\n",
       "      <td>0</td>\n",
       "      <td>0.000000</td>\n",
       "      <td>0</td>\n",
       "      <td>0</td>\n",
       "      <td>0.000000e+00</td>\n",
       "      <td>...</td>\n",
       "      <td>1</td>\n",
       "      <td>1</td>\n",
       "      <td>1</td>\n",
       "      <td>0</td>\n",
       "      <td>0</td>\n",
       "      <td>0</td>\n",
       "      <td>1</td>\n",
       "      <td>1</td>\n",
       "      <td>1</td>\n",
       "      <td>0</td>\n",
       "    </tr>\n",
       "    <tr>\n",
       "      <th>82330</th>\n",
       "      <td>82331</td>\n",
       "      <td>0.000000</td>\n",
       "      <td>1</td>\n",
       "      <td>0</td>\n",
       "      <td>46</td>\n",
       "      <td>0</td>\n",
       "      <td>0.000000</td>\n",
       "      <td>0</td>\n",
       "      <td>0</td>\n",
       "      <td>0.000000e+00</td>\n",
       "      <td>...</td>\n",
       "      <td>1</td>\n",
       "      <td>1</td>\n",
       "      <td>1</td>\n",
       "      <td>0</td>\n",
       "      <td>0</td>\n",
       "      <td>0</td>\n",
       "      <td>1</td>\n",
       "      <td>1</td>\n",
       "      <td>1</td>\n",
       "      <td>0</td>\n",
       "    </tr>\n",
       "    <tr>\n",
       "      <th>82331</th>\n",
       "      <td>82332</td>\n",
       "      <td>0.000009</td>\n",
       "      <td>2</td>\n",
       "      <td>0</td>\n",
       "      <td>104</td>\n",
       "      <td>0</td>\n",
       "      <td>111111.107200</td>\n",
       "      <td>254</td>\n",
       "      <td>0</td>\n",
       "      <td>4.622222e+07</td>\n",
       "      <td>...</td>\n",
       "      <td>1</td>\n",
       "      <td>1</td>\n",
       "      <td>1</td>\n",
       "      <td>0</td>\n",
       "      <td>0</td>\n",
       "      <td>0</td>\n",
       "      <td>1</td>\n",
       "      <td>1</td>\n",
       "      <td>0</td>\n",
       "      <td>0</td>\n",
       "    </tr>\n",
       "  </tbody>\n",
       "</table>\n",
       "<p>82332 rows × 41 columns</p>\n",
       "</div>"
      ],
      "text/plain": [
       "          id       dur  spkts  dpkts  sbytes  dbytes           rate  sttl  \\\n",
       "0          1  0.000011      2      0     496       0   90909.090200   254   \n",
       "1          2  0.000008      2      0    1762       0  125000.000300   254   \n",
       "2          3  0.000005      2      0    1068       0  200000.005100   254   \n",
       "3          4  0.000006      2      0     900       0  166666.660800   254   \n",
       "4          5  0.000010      2      0    2126       0  100000.002500   254   \n",
       "...      ...       ...    ...    ...     ...     ...            ...   ...   \n",
       "82327  82328  0.000005      2      0     104       0  200000.005100   254   \n",
       "82328  82329  1.106101     20      8   18062     354      24.410067   254   \n",
       "82329  82330  0.000000      1      0      46       0       0.000000     0   \n",
       "82330  82331  0.000000      1      0      46       0       0.000000     0   \n",
       "82331  82332  0.000009      2      0     104       0  111111.107200   254   \n",
       "\n",
       "       dttl         sload  ...  ct_src_dport_ltm  ct_dst_sport_ltm  \\\n",
       "0         0  1.803636e+08  ...                 1                 1   \n",
       "1         0  8.810000e+08  ...                 1                 1   \n",
       "2         0  8.544000e+08  ...                 1                 1   \n",
       "3         0  6.000000e+08  ...                 2                 1   \n",
       "4         0  8.504000e+08  ...                 2                 1   \n",
       "...     ...           ...  ...               ...               ...   \n",
       "82327     0  8.320000e+07  ...                 1                 1   \n",
       "82328   252  1.241044e+05  ...                 1                 1   \n",
       "82329     0  0.000000e+00  ...                 1                 1   \n",
       "82330     0  0.000000e+00  ...                 1                 1   \n",
       "82331     0  4.622222e+07  ...                 1                 1   \n",
       "\n",
       "       ct_dst_src_ltm  is_ftp_login  ct_ftp_cmd  ct_flw_http_mthd  ct_src_ltm  \\\n",
       "0                   2             0           0                 0           1   \n",
       "1                   2             0           0                 0           1   \n",
       "2                   3             0           0                 0           1   \n",
       "3                   3             0           0                 0           2   \n",
       "4                   3             0           0                 0           2   \n",
       "...               ...           ...         ...               ...         ...   \n",
       "82327               2             0           0                 0           2   \n",
       "82328               1             0           0                 0           3   \n",
       "82329               1             0           0                 0           1   \n",
       "82330               1             0           0                 0           1   \n",
       "82331               1             0           0                 0           1   \n",
       "\n",
       "       ct_srv_dst  is_sm_ips_ports  label  \n",
       "0               2                0      0  \n",
       "1               2                0      0  \n",
       "2               3                0      0  \n",
       "3               3                0      0  \n",
       "4               3                0      0  \n",
       "...           ...              ...    ...  \n",
       "82327           1                0      0  \n",
       "82328           2                0      0  \n",
       "82329           1                1      0  \n",
       "82330           1                1      0  \n",
       "82331           1                0      0  \n",
       "\n",
       "[82332 rows x 41 columns]"
      ]
     },
     "execution_count": 13,
     "metadata": {},
     "output_type": "execute_result"
    }
   ],
   "source": [
    "data1"
   ]
  },
  {
   "cell_type": "code",
   "execution_count": 12,
   "metadata": {},
   "outputs": [],
   "source": [
    "test_data=test.drop(['proto','service','state','attack_cat'],axis=1)"
   ]
  },
  {
   "cell_type": "code",
   "execution_count": 15,
   "metadata": {},
   "outputs": [],
   "source": [
    "X = data1.iloc[:,:-1]\n",
    "y = data1.iloc[:,-1]"
   ]
  },
  {
   "cell_type": "code",
   "execution_count": 16,
   "metadata": {},
   "outputs": [
    {
     "data": {
      "text/plain": [
       "175341"
      ]
     },
     "execution_count": 16,
     "metadata": {},
     "output_type": "execute_result"
    }
   ],
   "source": [
    "len(test_data)"
   ]
  },
  {
   "cell_type": "code",
   "execution_count": 17,
   "metadata": {},
   "outputs": [],
   "source": [
    "X_test = test_data.iloc[:,:-1]\n",
    "y_test = test_data.iloc[:,-1]"
   ]
  },
  {
   "cell_type": "code",
   "execution_count": 18,
   "metadata": {},
   "outputs": [],
   "source": [
    "# model = tf.keras.Sequential([\n",
    "#   tf.keras.layers.Dense(128, activation=tf.nn.relu, input_shape=(40,)),  # input shape required\n",
    "#   tf.keras.layers.Dense(64, activation=tf.nn.relu),\n",
    "#   tf.keras.layers.Dense(1, activation=tf.nn.sigmoid)\n",
    "# ])\n",
    "model = tf.keras.Sequential()\n",
    "model.add(tf.keras.layers.Dense(128,\n",
    "                                input_dim=X.shape[1],\n",
    "                                activation=tf.nn.relu,\n",
    "                                kernel_initializer='he_normal')\n",
    ")\n",
    "model.add(tf.keras.layers.Dense(64,\n",
    "                                activation=tf.nn.relu,\n",
    "                                kernel_initializer='he_normal')\n",
    ")\n",
    "model.add(tf.keras.layers.Dense(1, activation='sigmoid'))\n",
    "model.compile(\n",
    "    loss='binary_crossentropy',\n",
    "    optimizer='adam',\n",
    "    metrics=['accuracy']\n",
    ")"
   ]
  },
  {
   "cell_type": "code",
   "execution_count": 19,
   "metadata": {},
   "outputs": [
    {
     "name": "stdout",
     "output_type": "stream",
     "text": [
      "Model: \"sequential\"\n",
      "_________________________________________________________________\n",
      " Layer (type)                Output Shape              Param #   \n",
      "=================================================================\n",
      " dense (Dense)               (None, 128)               5248      \n",
      "                                                                 \n",
      " dense_1 (Dense)             (None, 64)                8256      \n",
      "                                                                 \n",
      " dense_2 (Dense)             (None, 1)                 65        \n",
      "                                                                 \n",
      "=================================================================\n",
      "Total params: 13,569\n",
      "Trainable params: 13,569\n",
      "Non-trainable params: 0\n",
      "_________________________________________________________________\n"
     ]
    }
   ],
   "source": [
    "model.summary()"
   ]
  },
  {
   "cell_type": "code",
   "execution_count": 20,
   "metadata": {},
   "outputs": [
    {
     "name": "stdout",
     "output_type": "stream",
     "text": [
      "Epoch 1/20\n",
      "1287/1287 - 5s - loss: 4660720.5000 - accuracy: 0.6469 - val_loss: 1531718.7500 - val_accuracy: 0.7847 - 5s/epoch - 4ms/step\n",
      "Epoch 2/20\n",
      "1287/1287 - 4s - loss: 2430431.2500 - accuracy: 0.6605 - val_loss: 3484347.7500 - val_accuracy: 0.7828 - 4s/epoch - 3ms/step\n",
      "Epoch 3/20\n",
      "1287/1287 - 4s - loss: 2164912.5000 - accuracy: 0.6791 - val_loss: 1283802.2500 - val_accuracy: 0.3853 - 4s/epoch - 3ms/step\n",
      "Epoch 4/20\n",
      "1287/1287 - 4s - loss: 1790975.6250 - accuracy: 0.6793 - val_loss: 2872363.2500 - val_accuracy: 0.3485 - 4s/epoch - 3ms/step\n",
      "Epoch 5/20\n",
      "1287/1287 - 4s - loss: 1425690.1250 - accuracy: 0.6894 - val_loss: 686840.4375 - val_accuracy: 0.6769 - 4s/epoch - 3ms/step\n",
      "Epoch 6/20\n",
      "1287/1287 - 4s - loss: 1423460.7500 - accuracy: 0.6853 - val_loss: 244056.6250 - val_accuracy: 0.7975 - 4s/epoch - 3ms/step\n",
      "Epoch 7/20\n",
      "1287/1287 - 4s - loss: 1111666.1250 - accuracy: 0.6855 - val_loss: 475905.8438 - val_accuracy: 0.6729 - 4s/epoch - 3ms/step\n",
      "Epoch 8/20\n",
      "1287/1287 - 4s - loss: 990865.8125 - accuracy: 0.6912 - val_loss: 798758.1250 - val_accuracy: 0.3590 - 4s/epoch - 3ms/step\n",
      "Epoch 9/20\n",
      "1287/1287 - 4s - loss: 875389.6250 - accuracy: 0.6907 - val_loss: 1084140.7500 - val_accuracy: 0.7392 - 4s/epoch - 3ms/step\n",
      "Epoch 10/20\n",
      "1287/1287 - 4s - loss: 840676.6875 - accuracy: 0.6857 - val_loss: 1005288.0625 - val_accuracy: 0.3536 - 4s/epoch - 3ms/step\n",
      "Epoch 11/20\n",
      "1287/1287 - 4s - loss: 667725.8750 - accuracy: 0.6940 - val_loss: 650172.5000 - val_accuracy: 0.4294 - 4s/epoch - 3ms/step\n",
      "Epoch 12/20\n",
      "1287/1287 - 4s - loss: 572599.5625 - accuracy: 0.6951 - val_loss: 254316.0625 - val_accuracy: 0.5948 - 4s/epoch - 3ms/step\n",
      "Epoch 13/20\n",
      "1287/1287 - 4s - loss: 516751.4688 - accuracy: 0.6962 - val_loss: 523284.2500 - val_accuracy: 0.6149 - 4s/epoch - 3ms/step\n",
      "Epoch 14/20\n",
      "1287/1287 - 4s - loss: 494577.1250 - accuracy: 0.6959 - val_loss: 253389.8906 - val_accuracy: 0.5159 - 4s/epoch - 3ms/step\n",
      "Epoch 15/20\n",
      "1287/1287 - 4s - loss: 401838.1250 - accuracy: 0.6993 - val_loss: 197014.4375 - val_accuracy: 0.5971 - 4s/epoch - 3ms/step\n",
      "Epoch 16/20\n",
      "1287/1287 - 4s - loss: 345001.2500 - accuracy: 0.7012 - val_loss: 179328.2344 - val_accuracy: 0.4389 - 4s/epoch - 3ms/step\n",
      "Epoch 17/20\n",
      "1287/1287 - 4s - loss: 252814.1719 - accuracy: 0.7042 - val_loss: 125236.4453 - val_accuracy: 0.5252 - 4s/epoch - 3ms/step\n",
      "Epoch 18/20\n",
      "1287/1287 - 4s - loss: 248525.5625 - accuracy: 0.7007 - val_loss: 131995.0156 - val_accuracy: 0.5041 - 4s/epoch - 3ms/step\n",
      "Epoch 19/20\n",
      "1287/1287 - 4s - loss: 199295.6875 - accuracy: 0.7031 - val_loss: 246774.5156 - val_accuracy: 0.3585 - 4s/epoch - 3ms/step\n",
      "Epoch 20/20\n",
      "1287/1287 - 3s - loss: 116142.6094 - accuracy: 0.7065 - val_loss: 55944.1211 - val_accuracy: 0.6477 - 3s/epoch - 3ms/step\n",
      "Accuracy: 64.77\n",
      "Model: \"sequential\"\n",
      "_________________________________________________________________\n",
      " Layer (type)                Output Shape              Param #   \n",
      "=================================================================\n",
      " dense (Dense)               (None, 128)               5248      \n",
      "                                                                 \n",
      " dense_1 (Dense)             (None, 64)                8256      \n",
      "                                                                 \n",
      " dense_2 (Dense)             (None, 1)                 65        \n",
      "                                                                 \n",
      "=================================================================\n",
      "Total params: 13,569\n",
      "Trainable params: 13,569\n",
      "Non-trainable params: 0\n",
      "_________________________________________________________________\n"
     ]
    }
   ],
   "source": [
    "history=model.fit(\n",
    "    X,y,\n",
    "    batch_size=64,\n",
    "    epochs=20,\n",
    "    shuffle=True,\n",
    "    verbose=2,\n",
    "    validation_data=(X_test,y_test)\n",
    ")\n",
    "_, accuracy = model.evaluate(X_test,y_test, verbose=0)\n",
    "print('Accuracy: %.2f' % (accuracy*100))\n",
    "model.summary()"
   ]
  },
  {
   "cell_type": "code",
   "execution_count": 1,
   "metadata": {},
   "outputs": [
    {
     "ename": "NameError",
     "evalue": "name 'model' is not defined",
     "output_type": "error",
     "traceback": [
      "\u001b[1;31m---------------------------------------------------------------------------\u001b[0m",
      "\u001b[1;31mNameError\u001b[0m                                 Traceback (most recent call last)",
      "Cell \u001b[1;32mIn[1], line 1\u001b[0m\n\u001b[1;32m----> 1\u001b[0m model\u001b[39m.\u001b[39msave(\u001b[39mr\u001b[39m\u001b[39m\"\u001b[39m\u001b[39mC:\u001b[39m\u001b[39m\\\u001b[39m\u001b[39mUsers\u001b[39m\u001b[39m\\\u001b[39m\u001b[39myasshah9\u001b[39m\u001b[39m\\\u001b[39m\u001b[39mDesktop\u001b[39m\u001b[39m\\\u001b[39m\u001b[39mThreat Detection\u001b[39m\u001b[39m\\\u001b[39m\u001b[39mbackend\u001b[39m\u001b[39m\"\u001b[39m)\n",
      "\u001b[1;31mNameError\u001b[0m: name 'model' is not defined"
     ]
    }
   ],
   "source": [
    "model.save(\"my_model\")"
   ]
  },
  {
   "cell_type": "code",
   "execution_count": 7,
   "metadata": {},
   "outputs": [],
   "source": [
    "my_model = keras.models.load_model(\"my_model\")"
   ]
  },
  {
   "cell_type": "code",
   "execution_count": 8,
   "metadata": {},
   "outputs": [
    {
     "name": "stdout",
     "output_type": "stream",
     "text": [
      "Model: \"sequential\"\n",
      "_________________________________________________________________\n",
      " Layer (type)                Output Shape              Param #   \n",
      "=================================================================\n",
      " dense (Dense)               (None, 128)               5248      \n",
      "                                                                 \n",
      " dense_1 (Dense)             (None, 64)                8256      \n",
      "                                                                 \n",
      " dense_2 (Dense)             (None, 1)                 65        \n",
      "                                                                 \n",
      "=================================================================\n",
      "Total params: 13,569\n",
      "Trainable params: 13,569\n",
      "Non-trainable params: 0\n",
      "_________________________________________________________________\n"
     ]
    }
   ],
   "source": [
    "my_model.summary()"
   ]
  },
  {
   "cell_type": "code",
   "execution_count": 9,
   "metadata": {},
   "outputs": [
    {
     "name": "stderr",
     "output_type": "stream",
     "text": [
      "WARNING:absl:Found untraced functions such as _update_step_xla while saving (showing 1 of 1). These functions will not be directly callable after loading.\n"
     ]
    },
    {
     "name": "stdout",
     "output_type": "stream",
     "text": [
      "INFO:tensorflow:Assets written to: C:\\Users\\yasshah9\\Desktop\\Threat Detection\\backend\\model\\assets\n"
     ]
    },
    {
     "name": "stderr",
     "output_type": "stream",
     "text": [
      "INFO:tensorflow:Assets written to: C:\\Users\\yasshah9\\Desktop\\Threat Detection\\backend\\model\\assets\n"
     ]
    }
   ],
   "source": [
    "my_model.save(r\"C:\\Users\\yasshah9\\Desktop\\Threat Detection\\backend\\model\")"
   ]
  },
  {
   "cell_type": "code",
   "execution_count": 10,
   "metadata": {},
   "outputs": [
    {
     "name": "stdout",
     "output_type": "stream",
     "text": [
      "Model: \"model\"\n",
      "_________________________________________________________________\n",
      " Layer (type)                Output Shape              Param #   \n",
      "=================================================================\n",
      " dense_input (InputLayer)    [(None, 40)]              0         \n",
      "                                                                 \n",
      " dense (Dense)               (None, 128)               5248      \n",
      "                                                                 \n",
      "=================================================================\n",
      "Total params: 5,248\n",
      "Trainable params: 5,248\n",
      "Non-trainable params: 0\n",
      "_________________________________________________________________\n"
     ]
    }
   ],
   "source": [
    "layer_name = 'dense' \n",
    "intermediate_layer_model = Model(inputs=my_model.input,\n",
    "                                 outputs=my_model.get_layer(layer_name).output)\n",
    "intermediate_layer_model.summary()"
   ]
  },
  {
   "cell_type": "code",
   "execution_count": null,
   "metadata": {},
   "outputs": [],
   "source": [
    "from tqdm import tqdm\n",
    "items_to_upload = []\n",
    "\n",
    "model_res = intermediate_layer_model.predict(K.constant(data1.iloc[:,:-1]))\n",
    "\n",
    "for i, res in tqdm(zip(data.iterrows(), model_res), total=len(model_res)):\n",
    "    benign_or_attack = i[1]['attack_cat'][:3]\n",
    "    items_to_upload.append((benign_or_attack + '_' + str(i[0]), res.tolist()))"
   ]
  },
  {
   "cell_type": "code",
   "execution_count": null,
   "metadata": {},
   "outputs": [],
   "source": [
    "import numpy as np\n",
    "np.shape(items_to_upload)"
   ]
  },
  {
   "cell_type": "code",
   "execution_count": null,
   "metadata": {},
   "outputs": [],
   "source": [
    "import itertools\n",
    "\n",
    "def chunks(iterable, batch_size=100):\n",
    "    it = iter(iterable)\n",
    "    chunk = tuple(itertools.islice(it, batch_size))\n",
    "    while chunk:\n",
    "        yield chunk\n",
    "        chunk = tuple(itertools.islice(it, batch_size))"
   ]
  },
  {
   "cell_type": "code",
   "execution_count": null,
   "metadata": {},
   "outputs": [],
   "source": [
    "NUMBER_OF_ITEMS = len(items_to_upload)\n",
    "\n",
    "for batch in chunks(items_to_upload[:NUMBER_OF_ITEMS], 50):\n",
    "    index.upsert(vectors=batch)"
   ]
  },
  {
   "cell_type": "code",
   "execution_count": null,
   "metadata": {},
   "outputs": [],
   "source": [
    "items_to_upload.clear()"
   ]
  },
  {
   "cell_type": "code",
   "execution_count": 28,
   "metadata": {},
   "outputs": [
    {
     "data": {
      "text/plain": [
       "{'dimension': 128,\n",
       " 'index_fullness': 0.1,\n",
       " 'namespaces': {'': {'vector_count': 82332}},\n",
       " 'total_vector_count': 82332}"
      ]
     },
     "execution_count": 28,
     "metadata": {},
     "output_type": "execute_result"
    }
   ],
   "source": [
    "index.describe_index_stats()"
   ]
  },
  {
   "cell_type": "code",
   "execution_count": 13,
   "metadata": {},
   "outputs": [],
   "source": [
    "test_data1=test.drop(['proto','service','state'],axis=1)"
   ]
  },
  {
   "cell_type": "code",
   "execution_count": 14,
   "metadata": {},
   "outputs": [
    {
     "name": "stdout",
     "output_type": "stream",
     "text": [
      "    id        dur  spkts  dpkts  sbytes  dbytes      rate  sttl  dttl  \\\n",
      "0  101  33.787666     14     18    1684   10168  0.917495    31    29   \n",
      "1  101  33.787666     14     18    1684   10168  0.917495    31    29   \n",
      "\n",
      "        sload  ...  ct_dst_sport_ltm  ct_dst_src_ltm  is_ftp_login  \\\n",
      "0  370.312653  ...                 1               2             0   \n",
      "1  370.312653  ...                 1               2             0   \n",
      "\n",
      "   ct_ftp_cmd  ct_flw_http_mthd  ct_src_ltm  ct_srv_dst  is_sm_ips_ports  \\\n",
      "0           0                 1           4           5                0   \n",
      "1           0                 1           4           5                0   \n",
      "\n",
      "   attack_cat  label  \n",
      "0      Normal      0  \n",
      "1      Normal      0  \n",
      "\n",
      "[2 rows x 42 columns]\n"
     ]
    }
   ],
   "source": [
    "data_sample1 = test_data1.iloc[50000:50001,:]\n",
    "# data_sample1.attack_cat.value_counts()\n",
    "data_sample1 = pd.concat([data_sample1, pd.DataFrame(data_sample1)], ignore_index=True)\n",
    "print(data_sample1)"
   ]
  },
  {
   "cell_type": "code",
   "execution_count": 15,
   "metadata": {},
   "outputs": [],
   "source": [
    "data_sample=data_sample1.drop(['attack_cat'],axis=1)"
   ]
  },
  {
   "cell_type": "code",
   "execution_count": 16,
   "metadata": {},
   "outputs": [],
   "source": [
    "from tqdm import tqdm"
   ]
  },
  {
   "cell_type": "code",
   "execution_count": 17,
   "metadata": {},
   "outputs": [
    {
     "name": "stderr",
     "output_type": "stream",
     "text": [
      "  0%|          | 0/2 [00:00<?, ?it/s]"
     ]
    },
    {
     "name": "stdout",
     "output_type": "stream",
     "text": [
      "1/1 [==============================] - 0s 104ms/step\n"
     ]
    },
    {
     "name": "stderr",
     "output_type": "stream",
     "text": [
      " 50%|█████     | 1/2 [00:01<00:01,  1.15s/it]"
     ]
    },
    {
     "name": "stdout",
     "output_type": "stream",
     "text": [
      "1/1 [==============================] - 0s 25ms/step\n"
     ]
    },
    {
     "name": "stderr",
     "output_type": "stream",
     "text": [
      "100%|██████████| 2/2 [00:01<00:00,  1.24it/s]\n"
     ]
    }
   ],
   "source": [
    "y_true = []\n",
    "y_pred = []\n",
    "\n",
    "BATCH_SIZE = 1\n",
    "\n",
    "for i in tqdm(range(0, len(data_sample), BATCH_SIZE)):\n",
    "    test_data = data_sample.iloc[i:i+BATCH_SIZE, :]\n",
    "    data_sample2=data_sample1.iloc[i:i+BATCH_SIZE, :]\n",
    "    # Create vector embedding using the model\n",
    "    test_vector = intermediate_layer_model.predict(K.constant(test_data.iloc[:, :-1]))\n",
    "    # Query using the vector embedding\n",
    "    query_results = []\n",
    "\n",
    "    for xq in test_vector.tolist():\n",
    "        query_res = index.query(xq, top_k=20)\n",
    "        query_results.append(query_res)\n",
    "    \n",
    "    ids = [res.id for result in query_results for res in result.matches]\n",
    "    \n",
    "    for label, res in zip(data_sample2.attack_cat.values, query_results):\n",
    "        # Add to the true list\n",
    "        if label == 'Normal':\n",
    "            y_true.append(0)\n",
    "        else:\n",
    "            y_true.append(1)\n",
    "        \n",
    "        counter = Counter(match.id.split('_')[0] for match in res.matches)\n",
    "\n",
    "        # Add to the predicted list\n",
    "        if counter['Nor']:\n",
    "            y_pred.append(0)\n",
    "        else:\n",
    "            y_pred.append(1)"
   ]
  },
  {
   "cell_type": "code",
   "execution_count": 18,
   "metadata": {},
   "outputs": [
    {
     "name": "stdout",
     "output_type": "stream",
     "text": [
      "Accuracy: 0.000\n",
      "Precision: 0.000\n",
      "Recall: 0.000\n"
     ]
    },
    {
     "name": "stderr",
     "output_type": "stream",
     "text": [
      "C:\\Users\\yasshah9\\AppData\\Roaming\\Python\\Python311\\site-packages\\sklearn\\metrics\\_classification.py:1344: UndefinedMetricWarning: Recall is ill-defined and being set to 0.0 due to no true samples. Use `zero_division` parameter to control this behavior.\n",
      "  _warn_prf(average, modifier, msg_start, len(result))\n"
     ]
    }
   ],
   "source": [
    "# Calculate accuracy\n",
    "acc = accuracy_score(y_true, y_pred, normalize=True, sample_weight=None)\n",
    "precision = precision_score(y_true, y_pred)\n",
    "recall = recall_score(y_true, y_pred)\n",
    "\n",
    "print(f\"Accuracy: {acc:.3f}\")\n",
    "print(f\"Precision: {precision:.3f}\")\n",
    "print(f\"Recall: {recall:.3f}\")"
   ]
  },
  {
   "cell_type": "code",
   "execution_count": null,
   "metadata": {},
   "outputs": [],
   "source": []
  }
 ],
 "metadata": {
  "kernelspec": {
   "display_name": "Python 3",
   "language": "python",
   "name": "python3"
  },
  "language_info": {
   "codemirror_mode": {
    "name": "ipython",
    "version": 3
   },
   "file_extension": ".py",
   "mimetype": "text/x-python",
   "name": "python",
   "nbconvert_exporter": "python",
   "pygments_lexer": "ipython3",
   "version": "3.11.3"
  },
  "orig_nbformat": 4
 },
 "nbformat": 4,
 "nbformat_minor": 2
}
